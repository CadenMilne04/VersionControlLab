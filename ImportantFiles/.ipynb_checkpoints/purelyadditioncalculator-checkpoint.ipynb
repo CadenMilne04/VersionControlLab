{
 "cells": [
  {
   "cell_type": "code",
   "execution_count": null,
   "metadata": {},
   "outputs": [
    {
     "name": "stdin",
     "output_type": "stream",
     "text": [
      "put in any number. make sure it's an integer. or else. 54\n",
      "put in any number. make sure it's an integer. or else. 22\n"
     ]
    },
    {
     "name": "stdout",
     "output_type": "stream",
     "text": [
      "wrong.\n",
      "wrong.\n"
     ]
    }
   ],
   "source": [
    "#this is a second program\n",
    "while True:\n",
    "    try:  \n",
    "        one = int(input(\"put in any number. make sure it's an integer. or else.\"))\n",
    "        break\n",
    "    except:\n",
    "        print(\"wrong.\")\n",
    "while True:\n",
    "    try:  \n",
    "        two = int(input(\"put in another integer. make sure it's an integer.\"))\n",
    "        break\n",
    "    except:\n",
    "        print(\"wrong.\")"
   ]
  },
  {
   "cell_type": "code",
   "execution_count": null,
   "metadata": {},
   "outputs": [],
   "source": [
    "print(str(one+two))"
   ]
  }
 ],
 "metadata": {
  "kernelspec": {
   "display_name": "Python 3",
   "language": "python",
   "name": "python3"
  },
  "language_info": {
   "codemirror_mode": {
    "name": "ipython",
    "version": 3
   },
   "file_extension": ".py",
   "mimetype": "text/x-python",
   "name": "python",
   "nbconvert_exporter": "python",
   "pygments_lexer": "ipython3",
   "version": "3.8.3"
  }
 },
 "nbformat": 4,
 "nbformat_minor": 4
}
